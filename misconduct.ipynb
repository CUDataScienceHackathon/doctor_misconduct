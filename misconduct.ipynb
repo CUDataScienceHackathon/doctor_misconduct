{
 "cells": [
  {
   "cell_type": "code",
   "execution_count": 10,
   "metadata": {
    "collapsed": true
   },
   "outputs": [],
   "source": [
    "%matplotlib inline\n",
    "import numpy as np\n",
    "import pandas as pd\n",
    "\n",
    "from sklearn.pipeline import Pipeline\n",
    "from sklearn.feature_extraction.text import CountVectorizer, TfidfTransformer\n",
    "from sklearn.neighbors import KNeighborsClassifier \n",
    "from sklearn.cross_validation import train_test_split\n",
    "from sklearn.decomposition import RandomizedPCA\n",
    "from sklearn.naive_bayes import GaussianNB\n",
    "from sklearn.metrics import confusion_matrix\n",
    "from sklearn.linear_model import SGDClassifier\n",
    "\n",
    "import seaborn as sns\n",
    "import matplotlib.pyplot as plt"
   ]
  },
  {
   "cell_type": "code",
   "execution_count": 3,
   "metadata": {
    "collapsed": true
   },
   "outputs": [],
   "source": [
    "df = pd.read_csv('misconduct.csv', header=False)\n",
    "df = df.dropna(subset=['Misconduct Description', 'Action'])"
   ]
  },
  {
   "cell_type": "code",
   "execution_count": 4,
   "metadata": {
    "collapsed": true
   },
   "outputs": [],
   "source": [
    "#Manual hierarchical clustering?\n",
    "\n",
    "for x in ['surrender', 'revoked','revoke', 'surrendered',\n",
    "          'Surrender', 'Revoked', 'Revoke', 'Revocation', 'revocation',\n",
    "          'Surrendered']:\n",
    "    df.loc[df['Action'].str.contains(x), 'Action'] = 'lost license'\n",
    "\n",
    "\n",
    "for x in ['dismissed', 'dropped', 'Dismissed', 'Dropped', 'No penalty']:\n",
    "    df.loc[df.Action.str.contains(x), 'Action'] = 'dropped'\n",
    "\n",
    "for x in ['fine', 'Fined', 'Fine', 'fined']:\n",
    "    df.loc[df.Action.str.contains(x), 'Action'] = 'fine'\n",
    "\n",
    "for x in ['Suspension', 'suspension']:\n",
    "    df.loc[df.Action.str.contains(x), 'Action'] = 'suspension'\n",
    "    \n",
    "df.loc[df.Action.str.len() > 12] = 'reprimand'\n",
    "df.loc[df.Action == 'Reprimand'] = 'reprimand'"
   ]
  },
  {
   "cell_type": "code",
   "execution_count": 5,
   "metadata": {
    "collapsed": false
   },
   "outputs": [
    {
     "data": {
      "text/plain": [
       "array(['lost license', 'reprimand', 'fine', 'suspension', 'dropped'], dtype=object)"
      ]
     },
     "execution_count": 5,
     "metadata": {},
     "output_type": "execute_result"
    }
   ],
   "source": [
    "pd.unique(df['Action'])"
   ]
  },
  {
   "cell_type": "code",
   "execution_count": 6,
   "metadata": {
    "collapsed": false
   },
   "outputs": [],
   "source": [
    "#train test splitting\n",
    "\n",
    "X_full = list(df['Misconduct Description'])\n",
    "y_full = list(df['Action'])\n",
    "\n",
    "X_train, X_test, y_train, y_test = train_test_split(X_full, y_full,\n",
    "                                                    train_size=.8, random_state=19)\n",
    "\n",
    "assert len(X_train) == len(y_train)\n",
    "assert len(X_test) == len(y_test)"
   ]
  },
  {
   "cell_type": "code",
   "execution_count": 14,
   "metadata": {
    "collapsed": false
   },
   "outputs": [],
   "source": [
    "#Creating the pipeline\n",
    "stop_words = ('the', 'in', 'a','he','she', 'at', 'physician')\n",
    "\n",
    "full_clf = Pipeline([('vect', CountVectorizer(stop_words=stop_words)),\n",
    "                     ('tfidf', TfidfTransformer()),\n",
    "                     ('clf', KNeighborsClassifier(n_neighbors=13,\n",
    "                                                  weights='distance'))])"
   ]
  },
  {
   "cell_type": "code",
   "execution_count": 16,
   "metadata": {
    "collapsed": false
   },
   "outputs": [
    {
     "name": "stdout",
     "output_type": "stream",
     "text": [
      "accuracy: 0.767605633803\n"
     ]
    }
   ],
   "source": [
    "\n",
    "full_clf.fit(np.asarray(X_train), np.asarray(y_train))\n",
    "print 'accuracy: {}'.format(np.mean(full_clf.predict(X_test) == y_test))"
   ]
  },
  {
   "cell_type": "code",
   "execution_count": 17,
   "metadata": {
    "collapsed": false
   },
   "outputs": [
    {
     "data": {
      "text/plain": [
       "<matplotlib.collections.PathCollection at 0x10ad34090>"
      ]
     },
     "execution_count": 17,
     "metadata": {},
     "output_type": "execute_result"
    },
    {
     "data": {
      "image/png": "[encoded data removed]",
      "text/plain": [
       "<matplotlib.figure.Figure at 0x109fca350>"
      ]
     },
     "metadata": {},
     "output_type": "display_data"
    }
   ],
   "source": [
    "#Find the best k (without grid search, so we can plot)\n",
    "\n",
    "ks = []\n",
    "accuracy = []\n",
    "\n",
    "\n",
    "for k in range(1,31,2):\n",
    "    ks.append(k)\n",
    "    full_clf = Pipeline([('vect', CountVectorizer(stop_words=stop_words)),\n",
    "                         ('tfidf', TfidfTransformer()),\n",
    "                         ('clf', KNeighborsClassifier(n_neighbors=k,\n",
    "                                                      weights='distance'))])  \n",
    "    full_clf.fit(X_train, y_train)    \n",
    "    accuracy.append(np.mean(full_clf.predict(X_test) == y_test))\n",
    "plt.scatter(ks, accuracy)"
   ]
  },
  {
   "cell_type": "code",
   "execution_count": 21,
   "metadata": {
    "collapsed": false
   },
   "outputs": [
    {
     "name": "stdout",
     "output_type": "stream",
     "text": [
      "Normalized confusion matrix\n",
      "[[ 0.66666667  0.          0.          0.          0.33333333]\n",
      " [ 0.          0.59663866  0.22689076  0.          0.17647059]\n",
      " [ 0.00603136  0.12183353  0.73220748  0.          0.13992762]\n",
      " [ 0.          0.          0.          1.          0.        ]\n",
      " [ 0.          0.16239316  0.33333333  0.          0.5042735 ]]\n"
     ]
    },
    {
     "data": {
      "image/png": "[encoded data removed]",
      "text/plain": [
       "<matplotlib.figure.Figure at 0x10a419ad0>"
      ]
     },
     "metadata": {},
     "output_type": "display_data"
    }
   ],
   "source": [
    "cm = confusion_matrix(full_clf.predict(X_test), y_test)\n",
    "\n",
    "#function for ploting normalized confusion matrix\n",
    "\n",
    "def plot_confusion_matrix(cm, title='Confusion matrix', cmap=plt.cm.Blues):\n",
    "    \n",
    "    plt.imshow(cm, interpolation='nearest', cmap=cmap)\n",
    "    plt.title(title)\n",
    "    plt.colorbar()\n",
    "    plt.tight_layout()\n",
    "\n",
    "    \n",
    "cm_normalized = cm.astype('float') / cm.sum(axis=1)[:, np.newaxis]\n",
    "print('Normalized confusion matrix')\n",
    "print(cm_normalized)\n",
    "plt.figure()\n",
    "plot_confusion_matrix(cm_normalized, title='Normalized confusion matrix')"
   ]
  }
 ],
 "metadata": {
  "kernelspec": {
   "display_name": "Python 2",
   "language": "python",
   "name": "python2"
  },
  "language_info": {
   "codemirror_mode": {
    "name": "ipython",
    "version": 2
   },
   "file_extension": ".py",
   "mimetype": "text/x-python",
   "name": "python",
   "nbconvert_exporter": "python",
   "pygments_lexer": "ipython2",
   "version": "2.7.10"
  }
 },
 "nbformat": 4,
 "nbformat_minor": 0
}
